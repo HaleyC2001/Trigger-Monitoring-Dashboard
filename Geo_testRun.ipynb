{
 "cells": [
  {
   "cell_type": "markdown",
   "id": "b4c25961-1741-40c8-bca3-3d26c34cc7cc",
   "metadata": {},
   "source": [
    "# Import packages "
   ]
  },
  {
   "cell_type": "code",
   "execution_count": 4,
   "id": "b9949a82-dd33-49b2-a58e-c987b3397ecf",
   "metadata": {},
   "outputs": [
    {
     "name": "stdout",
     "output_type": "stream",
     "text": [
      "utils.py downloaded successfully!\n"
     ]
    }
   ],
   "source": [
    "import requests\n",
    "\n",
    "url = \"https://raw.githubusercontent.com/nitinmagima/endofseasonmonitoring_madagascar/refs/heads/main/utils.py\"\n",
    "response = requests.get(url)\n",
    "\n",
    "# Save the file locally\n",
    "with open(\"utils.py\", \"w\", encoding=\"utf-8\") as f:\n",
    "    f.write(response.text)\n",
    "\n",
    "print(\"utils.py downloaded successfully!\")\n"
   ]
  },
  {
   "cell_type": "code",
   "execution_count": 5,
   "id": "230811d2-041e-4fe3-9e9e-aa2b2f1e7098",
   "metadata": {},
   "outputs": [],
   "source": [
    "#%pip install -U \"geemap[workshop]\"\n",
    "#!pip install earthengine-api geemap pandas matplotlib seaborn\n"
   ]
  },
  {
   "cell_type": "code",
   "execution_count": 6,
   "id": "88c4f549-4193-43d3-8141-6ff37f77cdd0",
   "metadata": {
    "scrolled": true
   },
   "outputs": [],
   "source": [
    "import ee\n",
    "import geemap\n",
    "import utils as u\n",
    "from IPython.display import HTML, Markdown, display\n",
    "import pandas as pd\n",
    "import matplotlib.pyplot as plt\n",
    "import seaborn as sns"
   ]
  },
  {
   "cell_type": "markdown",
   "id": "5a6a4475-e914-4b67-bce1-177b00ee6c04",
   "metadata": {},
   "source": [
    "# Authenticate and initialize Earth Engine"
   ]
  },
  {
   "cell_type": "code",
   "execution_count": 8,
   "id": "415517fc-2a1c-48ea-b277-e13acf2d43f5",
   "metadata": {
    "scrolled": true
   },
   "outputs": [
    {
     "data": {
      "text/html": [
       "\n",
       "            <style>\n",
       "                .geemap-dark {\n",
       "                    --jp-widgets-color: white;\n",
       "                    --jp-widgets-label-color: white;\n",
       "                    --jp-ui-font-color1: white;\n",
       "                    --jp-layout-color2: #454545;\n",
       "                    background-color: #383838;\n",
       "                }\n",
       "\n",
       "                .geemap-dark .jupyter-button {\n",
       "                    --jp-layout-color3: #383838;\n",
       "                }\n",
       "\n",
       "                .geemap-colab {\n",
       "                    background-color: var(--colab-primary-surface-color, white);\n",
       "                }\n",
       "\n",
       "                .geemap-colab .jupyter-button {\n",
       "                    --jp-layout-color3: var(--colab-primary-surface-color, white);\n",
       "                }\n",
       "            </style>\n",
       "            "
      ],
      "text/plain": [
       "<IPython.core.display.HTML object>"
      ]
     },
     "metadata": {},
     "output_type": "display_data"
    },
    {
     "data": {
      "text/plain": [
       "True"
      ]
     },
     "execution_count": 8,
     "metadata": {},
     "output_type": "execute_result"
    }
   ],
   "source": [
    "ee.Authenticate()"
   ]
  },
  {
   "cell_type": "code",
   "execution_count": 9,
   "id": "1299b31e-d9ce-4c77-9aaa-68bc27826a02",
   "metadata": {},
   "outputs": [
    {
     "data": {
      "text/html": [
       "\n",
       "            <style>\n",
       "                .geemap-dark {\n",
       "                    --jp-widgets-color: white;\n",
       "                    --jp-widgets-label-color: white;\n",
       "                    --jp-ui-font-color1: white;\n",
       "                    --jp-layout-color2: #454545;\n",
       "                    background-color: #383838;\n",
       "                }\n",
       "\n",
       "                .geemap-dark .jupyter-button {\n",
       "                    --jp-layout-color3: #383838;\n",
       "                }\n",
       "\n",
       "                .geemap-colab {\n",
       "                    background-color: var(--colab-primary-surface-color, white);\n",
       "                }\n",
       "\n",
       "                .geemap-colab .jupyter-button {\n",
       "                    --jp-layout-color3: var(--colab-primary-surface-color, white);\n",
       "                }\n",
       "            </style>\n",
       "            "
      ],
      "text/plain": [
       "<IPython.core.display.HTML object>"
      ]
     },
     "metadata": {},
     "output_type": "display_data"
    }
   ],
   "source": [
    "ee.Initialize(project=\"aerial-form-449700-h7\")"
   ]
  },
  {
   "cell_type": "markdown",
   "id": "0be6844a-a9ec-475e-a28d-e3559ecc3c2c",
   "metadata": {},
   "source": [
    "# Initialize Map\n"
   ]
  },
  {
   "cell_type": "code",
   "execution_count": 11,
   "id": "4290ca74-c08a-4044-b408-1bd2045c849c",
   "metadata": {
    "scrolled": true
   },
   "outputs": [
    {
     "data": {
      "text/html": [
       "\n",
       "            <style>\n",
       "                .geemap-dark {\n",
       "                    --jp-widgets-color: white;\n",
       "                    --jp-widgets-label-color: white;\n",
       "                    --jp-ui-font-color1: white;\n",
       "                    --jp-layout-color2: #454545;\n",
       "                    background-color: #383838;\n",
       "                }\n",
       "\n",
       "                .geemap-dark .jupyter-button {\n",
       "                    --jp-layout-color3: #383838;\n",
       "                }\n",
       "\n",
       "                .geemap-colab {\n",
       "                    background-color: var(--colab-primary-surface-color, white);\n",
       "                }\n",
       "\n",
       "                .geemap-colab .jupyter-button {\n",
       "                    --jp-layout-color3: var(--colab-primary-surface-color, white);\n",
       "                }\n",
       "            </style>\n",
       "            "
      ],
      "text/plain": [
       "<IPython.core.display.HTML object>"
      ]
     },
     "metadata": {},
     "output_type": "display_data"
    },
    {
     "data": {
      "application/vnd.jupyter.widget-view+json": {
       "model_id": "94c676dd955845459c4fd0a1fb4b836b",
       "version_major": 2,
       "version_minor": 0
      },
      "text/plain": [
       "Map(center=[12.3, -1.6], controls=(WidgetControl(options=['position', 'transparent_bg'], widget=SearchDataGUI(…"
      ]
     },
     "execution_count": 11,
     "metadata": {},
     "output_type": "execute_result"
    }
   ],
   "source": [
    "import ipywidgets as widgets\n",
    "widgets.IntSlider()\n",
    "\n",
    "\n",
    "# Creating a map\n",
    "m = geemap.Map(basemap='Esri.WorldTopoMap')\n",
    "m.setCenter(-1.6, 12.3, 6)  # Longitude, Latitude, Zoom Level\n",
    "m\n"
   ]
  },
  {
   "cell_type": "markdown",
   "id": "cd5410c6-cd27-46d0-bc43-45ab71b68a5f",
   "metadata": {},
   "source": [
    "# NDVI and EVI Calculation Setup\n",
    "## select your study area \n",
    "The Global Administrative Unit Layers (GAUL) compiles and disseminates the best available information on administrative units for all the countries in the world, providing a contribution to the standardization of the spatial dataset representing administrative units. The GAUL always maintains global layers with a unified coding system at country, first (e.g. departments), and second administrative levels (e.g. districts). Where data is available, it provides layers on a country by country basis down to third, fourth, and lowers levels.\n",
    "\n",
    "NDVI (Normalized Difference Vegetation Index) and EVI (Enhanced Vegetation Index) are both satellite-based indices used to monitor and assess vegetation health and coverage across landscapes."
   ]
  },
  {
   "cell_type": "code",
   "execution_count": 13,
   "id": "c376a2ec-1c1b-431a-874b-2abb98ba7091",
   "metadata": {},
   "outputs": [
    {
     "data": {
      "text/html": [
       "\n",
       "            <style>\n",
       "                .geemap-dark {\n",
       "                    --jp-widgets-color: white;\n",
       "                    --jp-widgets-label-color: white;\n",
       "                    --jp-ui-font-color1: white;\n",
       "                    --jp-layout-color2: #454545;\n",
       "                    background-color: #383838;\n",
       "                }\n",
       "\n",
       "                .geemap-dark .jupyter-button {\n",
       "                    --jp-layout-color3: #383838;\n",
       "                }\n",
       "\n",
       "                .geemap-colab {\n",
       "                    background-color: var(--colab-primary-surface-color, white);\n",
       "                }\n",
       "\n",
       "                .geemap-colab .jupyter-button {\n",
       "                    --jp-layout-color3: var(--colab-primary-surface-color, white);\n",
       "                }\n",
       "            </style>\n",
       "            "
      ],
      "text/plain": [
       "<IPython.core.display.HTML object>"
      ]
     },
     "metadata": {},
     "output_type": "display_data"
    }
   ],
   "source": [
    "country_name = 'Burkina Faso'\n",
    "admin_level = 'level1' #use 'level0' or 'level1'"
   ]
  },
  {
   "cell_type": "code",
   "execution_count": 14,
   "id": "5e13503a-4f1f-498e-8601-051bdb538ee4",
   "metadata": {},
   "outputs": [
    {
     "data": {
      "text/html": [
       "\n",
       "            <style>\n",
       "                .geemap-dark {\n",
       "                    --jp-widgets-color: white;\n",
       "                    --jp-widgets-label-color: white;\n",
       "                    --jp-ui-font-color1: white;\n",
       "                    --jp-layout-color2: #454545;\n",
       "                    background-color: #383838;\n",
       "                }\n",
       "\n",
       "                .geemap-dark .jupyter-button {\n",
       "                    --jp-layout-color3: #383838;\n",
       "                }\n",
       "\n",
       "                .geemap-colab {\n",
       "                    background-color: var(--colab-primary-surface-color, white);\n",
       "                }\n",
       "\n",
       "                .geemap-colab .jupyter-button {\n",
       "                    --jp-layout-color3: var(--colab-primary-surface-color, white);\n",
       "                }\n",
       "            </style>\n",
       "            "
      ],
      "text/plain": [
       "<IPython.core.display.HTML object>"
      ]
     },
     "metadata": {},
     "output_type": "display_data"
    },
    {
     "name": "stdout",
     "output_type": "stream",
     "text": [
      "ROI type: FeatureCollection\n"
     ]
    }
   ],
   "source": [
    "roi = m.user_roi\n",
    "\n",
    "if roi is None:\n",
    "    roi = ee.FeatureCollection(f\"FAO/GAUL/2015/{admin_level}\")\n",
    "    roi = roi.filter(ee.Filter.eq('ADM0_NAME', country_name))\n",
    "    \n",
    "    # Define style parameters for visualization\n",
    "    styleParams = {\n",
    "        'fillColor': 'b5ffb4',\n",
    "        'color': '00909F',\n",
    "        'width': 1.0,\n",
    "    }\n",
    "    \n",
    "    # Create a styled version of the ROI for visualization purposes only\n",
    "    styledRoi = roi.style(**styleParams)\n",
    "    \n",
    "    # Add the styled ROI to the map for visualization\n",
    "    m.addLayer(styledRoi, {}, country_name)\n",
    "\n",
    "# Use 'roi' for clipping and other operations\n",
    "# Do not use 'styledRoi' for operations other than visualization\n",
    "\n",
    "# Check the type of 'roi', it should not return 'Image'\n",
    "print('ROI type:', roi.getInfo()['type'])  # Should print 'FeatureCollection'"
   ]
  },
  {
   "cell_type": "markdown",
   "id": "e4cd1592-0362-41f1-9845-654d62d815a9",
   "metadata": {},
   "source": [
    "## Load NDVI and EVI "
   ]
  },
  {
   "cell_type": "code",
   "execution_count": 16,
   "id": "ad761738-d8a5-443f-bc19-28d56d974162",
   "metadata": {},
   "outputs": [
    {
     "data": {
      "text/html": [
       "\n",
       "            <style>\n",
       "                .geemap-dark {\n",
       "                    --jp-widgets-color: white;\n",
       "                    --jp-widgets-label-color: white;\n",
       "                    --jp-ui-font-color1: white;\n",
       "                    --jp-layout-color2: #454545;\n",
       "                    background-color: #383838;\n",
       "                }\n",
       "\n",
       "                .geemap-dark .jupyter-button {\n",
       "                    --jp-layout-color3: #383838;\n",
       "                }\n",
       "\n",
       "                .geemap-colab {\n",
       "                    background-color: var(--colab-primary-surface-color, white);\n",
       "                }\n",
       "\n",
       "                .geemap-colab .jupyter-button {\n",
       "                    --jp-layout-color3: var(--colab-primary-surface-color, white);\n",
       "                }\n",
       "            </style>\n",
       "            "
      ],
      "text/plain": [
       "<IPython.core.display.HTML object>"
      ]
     },
     "metadata": {},
     "output_type": "display_data"
    },
    {
     "data": {
      "text/plain": [
       "'\\nThis filters the selected_bands (which contain the EVI and NDVI bands) \\nto include only the data that overlaps with the region of interest (roi). The filterBounds() \\nfunction ensures that only the vegetation data for the specified region is kept, \\ndiscarding any data outside of that region.\\n'"
      ]
     },
     "execution_count": 16,
     "metadata": {},
     "output_type": "execute_result"
    }
   ],
   "source": [
    "# Load the VIIRS Vegetation Indices dataset.\n",
    "viirs = ee.ImageCollection('NOAA/VIIRS/001/VNP13A1')\n",
    "\n",
    "# Directly select the EVI, EVI2, and NDVI bands from the dataset.\n",
    "evi_band = 'EVI'  # 3 band Enhanced Vegetation Index\n",
    "#evi2_band = 'EVI2'  # 2 band Enhanced Vegetation Index\n",
    "ndvi_band = 'NDVI'  # Normalized Difference Vegetation Index\n",
    "\n",
    "selected_bands = viirs.select([evi_band, ndvi_band])\n",
    "\n",
    "\n",
    "\n",
    "selected_bands = selected_bands.filterBounds(roi)\n",
    "\n",
    "\n",
    "selected_bands.filterBounds(roi) \n",
    "\n",
    "'''\n",
    "This filters the selected_bands (which contain the EVI and NDVI bands) \n",
    "to include only the data that overlaps with the region of interest (roi). The filterBounds() \n",
    "function ensures that only the vegetation data for the specified region is kept, \n",
    "discarding any data outside of that region.\n",
    "'''"
   ]
  },
  {
   "cell_type": "markdown",
   "id": "72003149-ed31-4ea3-9b61-c08e5075e06a",
   "metadata": {},
   "source": [
    "# SPI Calculation Setup\n",
    "\n",
    "sets up the Standardized Precipitation Index (SPI) calculation using the CHIRPS daily precipitation dataset in Google Earth Engine (GEE). Here’s a breakdown of what each step does:\n",
    "\n",
    " "
   ]
  },
  {
   "cell_type": "markdown",
   "id": "f4d2a56c-4aff-4576-8e3e-1e3005392864",
   "metadata": {},
   "source": [
    "### set variables"
   ]
  },
  {
   "cell_type": "code",
   "execution_count": 19,
   "id": "bef5e1a1-e925-455a-93c9-b7d281eb7a93",
   "metadata": {},
   "outputs": [
    {
     "data": {
      "text/html": [
       "\n",
       "            <style>\n",
       "                .geemap-dark {\n",
       "                    --jp-widgets-color: white;\n",
       "                    --jp-widgets-label-color: white;\n",
       "                    --jp-ui-font-color1: white;\n",
       "                    --jp-layout-color2: #454545;\n",
       "                    background-color: #383838;\n",
       "                }\n",
       "\n",
       "                .geemap-dark .jupyter-button {\n",
       "                    --jp-layout-color3: #383838;\n",
       "                }\n",
       "\n",
       "                .geemap-colab {\n",
       "                    background-color: var(--colab-primary-surface-color, white);\n",
       "                }\n",
       "\n",
       "                .geemap-colab .jupyter-button {\n",
       "                    --jp-layout-color3: var(--colab-primary-surface-color, white);\n",
       "                }\n",
       "            </style>\n",
       "            "
      ],
      "text/plain": [
       "<IPython.core.display.HTML object>"
      ]
     },
     "metadata": {},
     "output_type": "display_data"
    }
   ],
   "source": [
    "# set variables \n",
    "\n",
    "chirps = ee.ImageCollection(\"UCSB-CHG/CHIRPS/DAILY\") \n",
    "    # Loads CHIRPS Daily Precipitation data from UCSB's Climate Hazards Group (CHG).\n",
    "\n",
    "spimonthlyvis = {\"opacity\":1,\"bands\":[\"SPI\"],\"min\":-4,\"max\":4,\"palette\":[\"d53e4f\",\"fc8d59\",\"fee08b\",\"ffffbf\",\"e6f598\",\"99d594\",\"3288bd\"]} \n",
    "    #Defines visualization settings for monthly SPI, using a color palette from dry (red) to wet (blue).\n",
    "\n",
    "spi16dayvis = {\"opacity\":1,\"bands\":[\"SPI_16Days\"],\"min\":-4,\"max\":4,\"palette\":[\"d53e4f\",\"fc8d59\",\"fee08b\",\"ffffbf\",\"e6f598\",\"99d594\",\"3288bd\"]}\n",
    "    #Defines visualization for 16-day SPI with the same color scale."
   ]
  },
  {
   "cell_type": "markdown",
   "id": "d0e7fab5-3edc-48a5-93fc-498921255c45",
   "metadata": {},
   "source": [
    "### Set Time Frame "
   ]
  },
  {
   "cell_type": "code",
   "execution_count": 21,
   "id": "9b524fc1-eab8-40b2-a722-d78cd75e1d39",
   "metadata": {},
   "outputs": [
    {
     "data": {
      "text/html": [
       "\n",
       "            <style>\n",
       "                .geemap-dark {\n",
       "                    --jp-widgets-color: white;\n",
       "                    --jp-widgets-label-color: white;\n",
       "                    --jp-ui-font-color1: white;\n",
       "                    --jp-layout-color2: #454545;\n",
       "                    background-color: #383838;\n",
       "                }\n",
       "\n",
       "                .geemap-dark .jupyter-button {\n",
       "                    --jp-layout-color3: #383838;\n",
       "                }\n",
       "\n",
       "                .geemap-colab {\n",
       "                    background-color: var(--colab-primary-surface-color, white);\n",
       "                }\n",
       "\n",
       "                .geemap-colab .jupyter-button {\n",
       "                    --jp-layout-color3: var(--colab-primary-surface-color, white);\n",
       "                }\n",
       "            </style>\n",
       "            "
      ],
      "text/plain": [
       "<IPython.core.display.HTML object>"
      ]
     },
     "metadata": {},
     "output_type": "display_data"
    }
   ],
   "source": [
    "#set time frame \n",
    "\n",
    "'''\n",
    "If you want to use another period of time than the whole time span of CHIRPS data, \n",
    "change the code between ee.Date brackets (start_date & end_date) to the desired dates. Keep in mind, \n",
    "that a reduction of the time span will lead to a less accurate SPI calculation.\n",
    "'''\n",
    "\n",
    "\n",
    "\n",
    "firstimage = ee.Date(ee.List(chirps.get('date_range')).get(0))\n",
    "latestimage = ee.Date(chirps.limit(1, 'system:time_start',  False).first().get('system:time_start'))"
   ]
  },
  {
   "cell_type": "markdown",
   "id": "83460ace-1005-45e3-aaf5-32ff7c2f441d",
   "metadata": {},
   "source": [
    "### set resolution "
   ]
  },
  {
   "cell_type": "code",
   "execution_count": 23,
   "id": "dbd43993-b849-4db2-a05e-4601d94ea92b",
   "metadata": {},
   "outputs": [
    {
     "data": {
      "text/html": [
       "\n",
       "            <style>\n",
       "                .geemap-dark {\n",
       "                    --jp-widgets-color: white;\n",
       "                    --jp-widgets-label-color: white;\n",
       "                    --jp-ui-font-color1: white;\n",
       "                    --jp-layout-color2: #454545;\n",
       "                    background-color: #383838;\n",
       "                }\n",
       "\n",
       "                .geemap-dark .jupyter-button {\n",
       "                    --jp-layout-color3: #383838;\n",
       "                }\n",
       "\n",
       "                .geemap-colab {\n",
       "                    background-color: var(--colab-primary-surface-color, white);\n",
       "                }\n",
       "\n",
       "                .geemap-colab .jupyter-button {\n",
       "                    --jp-layout-color3: var(--colab-primary-surface-color, white);\n",
       "                }\n",
       "            </style>\n",
       "            "
      ],
      "text/plain": [
       "<IPython.core.display.HTML object>"
      ]
     },
     "metadata": {},
     "output_type": "display_data"
    }
   ],
   "source": [
    "\n",
    "resolution = 5550\n",
    "\n",
    "#Sets the spatial resolution of the analysis to 5,550 meters (~5.55 km) per pixel."
   ]
  },
  {
   "cell_type": "code",
   "execution_count": null,
   "id": "dc67a865-3517-416b-9cba-ffd096d2eb88",
   "metadata": {},
   "outputs": [],
   "source": []
  },
  {
   "cell_type": "markdown",
   "id": "7d0d4885-8d09-4763-bbc7-ec0b6b4b7d4a",
   "metadata": {},
   "source": [
    "### Set Time Scale Information For SPI\n",
    "The SPI can be calculated based on different time scales. The scientific society usually recognizes one month as the shortest timescale for the calculation of the SPI. Shorter timescales might underly random fluctuations in precipitation. However, the SPI can also be calculated for longer timescales, like 6 months. The following settings will give you the possibility to set your own time frame for the calculation of the SPI.\n",
    "\n",
    "Choose the number of months for the SPI. The default setting will calculate the SPI for 1 month. Setting the timestep to '6' will calculate the SPI for 6 months.\n",
    "\n",
    "Disclaimer - The calculation works for the following quantity of months: 1, 2, 3, 4, 5, 6, 7, 8, 9, 10, 11, 12, 24, 48 (Need to double check this)\n",
    "\n"
   ]
  },
  {
   "cell_type": "code",
   "execution_count": 25,
   "id": "a139c15d-1298-464e-9a64-5e040fc679f9",
   "metadata": {},
   "outputs": [
    {
     "data": {
      "text/html": [
       "\n",
       "            <style>\n",
       "                .geemap-dark {\n",
       "                    --jp-widgets-color: white;\n",
       "                    --jp-widgets-label-color: white;\n",
       "                    --jp-ui-font-color1: white;\n",
       "                    --jp-layout-color2: #454545;\n",
       "                    background-color: #383838;\n",
       "                }\n",
       "\n",
       "                .geemap-dark .jupyter-button {\n",
       "                    --jp-layout-color3: #383838;\n",
       "                }\n",
       "\n",
       "                .geemap-colab {\n",
       "                    background-color: var(--colab-primary-surface-color, white);\n",
       "                }\n",
       "\n",
       "                .geemap-colab .jupyter-button {\n",
       "                    --jp-layout-color3: var(--colab-primary-surface-color, white);\n",
       "                }\n",
       "            </style>\n",
       "            "
      ],
      "text/plain": [
       "<IPython.core.display.HTML object>"
      ]
     },
     "metadata": {},
     "output_type": "display_data"
    }
   ],
   "source": [
    "\n",
    "timestep = '1'\n",
    "\n",
    "\n",
    "# Defines a time step for SPI calculations.\n",
    "# Likely corresponds to 1 month SPI, meaning precipitation is aggregated monthly."
   ]
  },
  {
   "cell_type": "markdown",
   "id": "279ad053-bebc-4ca2-b39e-884e6cbb6dc7",
   "metadata": {},
   "source": [
    "### Set time shift for VIIRS related SPI\n",
    "\n",
    "The 16-day SPI product is an additional product besides the 'normal' SPI and will be calculated for the same dates as VIIRS's (NDVI and EVI) products. As the vegetation might need some time to respond to rainfall, it might be useful to apply a shift for the calculated 16-day SPI. For example: an applied shift of '-5' will cause the (16-day) SPI calculations to be started five days before the VIIRS start dates and end the calculations five days earlier than the VIIRS end dates as well. This feature might be useful when studying the response on vegetation towards rainfall. The variable \"days\" provides information about the observed days."
   ]
  },
  {
   "cell_type": "code",
   "execution_count": 27,
   "id": "e7f6284a-6199-450c-8de4-78c6024833ea",
   "metadata": {},
   "outputs": [
    {
     "data": {
      "text/html": [
       "\n",
       "            <style>\n",
       "                .geemap-dark {\n",
       "                    --jp-widgets-color: white;\n",
       "                    --jp-widgets-label-color: white;\n",
       "                    --jp-ui-font-color1: white;\n",
       "                    --jp-layout-color2: #454545;\n",
       "                    background-color: #383838;\n",
       "                }\n",
       "\n",
       "                .geemap-dark .jupyter-button {\n",
       "                    --jp-layout-color3: #383838;\n",
       "                }\n",
       "\n",
       "                .geemap-colab {\n",
       "                    background-color: var(--colab-primary-surface-color, white);\n",
       "                }\n",
       "\n",
       "                .geemap-colab .jupyter-button {\n",
       "                    --jp-layout-color3: var(--colab-primary-surface-color, white);\n",
       "                }\n",
       "            </style>\n",
       "            "
      ],
      "text/plain": [
       "<IPython.core.display.HTML object>"
      ]
     },
     "metadata": {},
     "output_type": "display_data"
    }
   ],
   "source": [
    "shift = '0'\n",
    "days = '16'"
   ]
  },
  {
   "cell_type": "markdown",
   "id": "d1b1347f-e292-43ce-8d5c-097497a490c0",
   "metadata": {},
   "source": [
    "## SPI calculation \n",
    "### Monthly SPI "
   ]
  },
  {
   "cell_type": "code",
   "execution_count": 29,
   "id": "de3b2ce6-91dc-4240-8d20-c9aae8db8ea1",
   "metadata": {},
   "outputs": [
    {
     "data": {
      "text/html": [
       "\n",
       "            <style>\n",
       "                .geemap-dark {\n",
       "                    --jp-widgets-color: white;\n",
       "                    --jp-widgets-label-color: white;\n",
       "                    --jp-ui-font-color1: white;\n",
       "                    --jp-layout-color2: #454545;\n",
       "                    background-color: #383838;\n",
       "                }\n",
       "\n",
       "                .geemap-dark .jupyter-button {\n",
       "                    --jp-layout-color3: #383838;\n",
       "                }\n",
       "\n",
       "                .geemap-colab {\n",
       "                    background-color: var(--colab-primary-surface-color, white);\n",
       "                }\n",
       "\n",
       "                .geemap-colab .jupyter-button {\n",
       "                    --jp-layout-color3: var(--colab-primary-surface-color, white);\n",
       "                }\n",
       "            </style>\n",
       "            "
      ],
      "text/plain": [
       "<IPython.core.display.HTML object>"
      ]
     },
     "metadata": {},
     "output_type": "display_data"
    }
   ],
   "source": [
    "thresholdmonths = ee.Number(12)\n",
    "\n",
    "#Create a list with a lag of one month between each list entry. Started from latest image counting backwards\n",
    "\n",
    "timedif = (latestimage.difference(firstimage, 'month')).divide(ee.Number.parse(timestep))"
   ]
  },
  {
   "cell_type": "code",
   "execution_count": 30,
   "id": "19b4d13e-329c-45c5-ab32-a9e6108c0af1",
   "metadata": {},
   "outputs": [
    {
     "data": {
      "text/html": [
       "\n",
       "            <style>\n",
       "                .geemap-dark {\n",
       "                    --jp-widgets-color: white;\n",
       "                    --jp-widgets-label-color: white;\n",
       "                    --jp-ui-font-color1: white;\n",
       "                    --jp-layout-color2: #454545;\n",
       "                    background-color: #383838;\n",
       "                }\n",
       "\n",
       "                .geemap-dark .jupyter-button {\n",
       "                    --jp-layout-color3: #383838;\n",
       "                }\n",
       "\n",
       "                .geemap-colab {\n",
       "                    background-color: var(--colab-primary-surface-color, white);\n",
       "                }\n",
       "\n",
       "                .geemap-colab .jupyter-button {\n",
       "                    --jp-layout-color3: var(--colab-primary-surface-color, white);\n",
       "                }\n",
       "            </style>\n",
       "            "
      ],
      "text/plain": [
       "<IPython.core.display.HTML object>"
      ]
     },
     "metadata": {},
     "output_type": "display_data"
    }
   ],
   "source": [
    "#Creates a simple list\n",
    "\n",
    "list = ee.List.sequence(0, timedif)\n",
    "#Map the dates (beginning with the latest image) of the months ends over the list, counting backwards in time\n",
    "\n",
    "def func_gou(month):\n",
    "  zero = ee.Number(0) #Is needed to substract month\n",
    "  delta = (zero.subtract(month)).multiply(ee.Number.parse(timestep)) #results in a negative counting in the list (from latest image backwards) in the steps provided by the user\n",
    "  latestdate = latestimage.advance(1, 'day') #Advance one day to include the latest image (starts counting at 00:00 o'clock)\n",
    "  return latestdate.advance(delta, 'month') #returns a list of dates counted from latest date backwards\n",
    "\n",
    "timelistdate = list.map(func_gou)"
   ]
  },
  {
   "cell_type": "code",
   "execution_count": 31,
   "id": "8255cd33-0323-4165-82c9-5fad0dfb5a0b",
   "metadata": {},
   "outputs": [
    {
     "data": {
      "text/html": [
       "\n",
       "            <style>\n",
       "                .geemap-dark {\n",
       "                    --jp-widgets-color: white;\n",
       "                    --jp-widgets-label-color: white;\n",
       "                    --jp-ui-font-color1: white;\n",
       "                    --jp-layout-color2: #454545;\n",
       "                    background-color: #383838;\n",
       "                }\n",
       "\n",
       "                .geemap-dark .jupyter-button {\n",
       "                    --jp-layout-color3: #383838;\n",
       "                }\n",
       "\n",
       "                .geemap-colab {\n",
       "                    background-color: var(--colab-primary-surface-color, white);\n",
       "                }\n",
       "\n",
       "                .geemap-colab .jupyter-button {\n",
       "                    --jp-layout-color3: var(--colab-primary-surface-color, white);\n",
       "                }\n",
       "            </style>\n",
       "            "
      ],
      "text/plain": [
       "<IPython.core.display.HTML object>"
      ]
     },
     "metadata": {},
     "output_type": "display_data"
    }
   ],
   "source": [
    "#Sort list according to their dates\n",
    "\n",
    "sortedtimelist = timelistdate.sort()"
   ]
  },
  {
   "cell_type": "code",
   "execution_count": 52,
   "id": "7f49a805-8679-461e-bc61-cbea9b36837d",
   "metadata": {},
   "outputs": [
    {
     "data": {
      "text/html": [
       "\n",
       "            <style>\n",
       "                .geemap-dark {\n",
       "                    --jp-widgets-color: white;\n",
       "                    --jp-widgets-label-color: white;\n",
       "                    --jp-ui-font-color1: white;\n",
       "                    --jp-layout-color2: #454545;\n",
       "                    background-color: #383838;\n",
       "                }\n",
       "\n",
       "                .geemap-dark .jupyter-button {\n",
       "                    --jp-layout-color3: #383838;\n",
       "                }\n",
       "\n",
       "                .geemap-colab {\n",
       "                    background-color: var(--colab-primary-surface-color, white);\n",
       "                }\n",
       "\n",
       "                .geemap-colab .jupyter-button {\n",
       "                    --jp-layout-color3: var(--colab-primary-surface-color, white);\n",
       "                }\n",
       "            </style>\n",
       "            "
      ],
      "text/plain": [
       "<IPython.core.display.HTML object>"
      ]
     },
     "metadata": {},
     "output_type": "display_data"
    }
   ],
   "source": [
    "# Calculate summed CHIRPS. Just those images will be kept, whose timeframe corrensponse to the user provided number of months\n",
    "\n",
    "def func_fxo(monthly_sum):\n",
    "    # Convert timestep to ee.Number if it's not already\n",
    "    timestep_num = ee.Number.parse(timestep)\n",
    "    \n",
    "    # Calculate start and end times\n",
    "    ##Define the time range for filtering chirps \n",
    "    starttime = ee.Date(monthly_sum).advance(timestep_num.multiply(-1), 'month')\n",
    "    endtime = ee.Date(monthly_sum)\n",
    "    \n",
    "    # Filter the CHIRPS dataset\n",
    "    filteredCHIRPS = chirps.filterDate(starttime, endtime)\n",
    "    \n",
    "    # Clip the images to the Area of Interest\n",
    "    ##ensure the precipitation data is relevant only to the target area \n",
    "    clippedCHIRPS = filteredCHIRPS.map(lambda clip: clip.clip(roi))\n",
    "    \n",
    "    # Calculate the number of images\n",
    "    imageAmount = clippedCHIRPS.size()\n",
    "    \n",
    "    # Sum the images in the collection\n",
    "    summedCollection = clippedCHIRPS.sum().set({\n",
    "        'Used_Images': imageAmount,\n",
    "        'Start_Date': ee.Date(filteredCHIRPS.first().get('system:time_start')),\n",
    "        'End_Date': ee.Date(filteredCHIRPS.sort('system:time_end', False).first().get('system:time_end')),\n",
    "        'system:time_start': filteredCHIRPS.first().get('system:time_start'),\n",
    "        'system:time_end': filteredCHIRPS.sort('system:time_end', False).first().get('system:time_end')\n",
    "    })\n",
    "    \n",
    "    # Calculate the observed months\n",
    "    time = ee.Date(summedCollection.get('system:time_end')).difference(ee.Date(summedCollection.get('system:time_start')), 'month').round()\n",
    "    \n",
    "    summedImage = summedCollection.set({\n",
    "        'Observed_Months': time\n",
    "    })\n",
    "    \n",
    "    # Return the summed image only if it meets the timestep requirement\n",
    "    return ee.Image(ee.Algorithms.If(time.gte(timestep_num), summedImage))\n",
    "\n",
    "# You will need to convert this list to ee.List if it's not already, and adjust your map function accordingly\n",
    "precipitationsum = ee.ImageCollection.fromImages(ee.List(timelistdate).map(func_fxo))"
   ]
  },
  {
   "cell_type": "code",
   "execution_count": 56,
   "id": "454b42d9-efd5-4cd9-af00-eb1f9dbfd8ae",
   "metadata": {},
   "outputs": [
    {
     "data": {
      "text/html": [
       "\n",
       "            <style>\n",
       "                .geemap-dark {\n",
       "                    --jp-widgets-color: white;\n",
       "                    --jp-widgets-label-color: white;\n",
       "                    --jp-ui-font-color1: white;\n",
       "                    --jp-layout-color2: #454545;\n",
       "                    background-color: #383838;\n",
       "                }\n",
       "\n",
       "                .geemap-dark .jupyter-button {\n",
       "                    --jp-layout-color3: #383838;\n",
       "                }\n",
       "\n",
       "                .geemap-colab {\n",
       "                    background-color: var(--colab-primary-surface-color, white);\n",
       "                }\n",
       "\n",
       "                .geemap-colab .jupyter-button {\n",
       "                    --jp-layout-color3: var(--colab-primary-surface-color, white);\n",
       "                }\n",
       "            </style>\n",
       "            "
      ],
      "text/plain": [
       "<IPython.core.display.HTML object>"
      ]
     },
     "metadata": {},
     "output_type": "display_data"
    }
   ],
   "source": [
    "#Copy properties of CHIRPS collection to monthly collection\n",
    "\n",
    "summedchirpscollection = ee.ImageCollection(precipitationsum.copyProperties(chirps))"
   ]
  },
  {
   "cell_type": "code",
   "execution_count": 58,
   "id": "4089ae0a-395f-4666-b04b-9843d955c26f",
   "metadata": {},
   "outputs": [
    {
     "data": {
      "text/html": [
       "\n",
       "            <style>\n",
       "                .geemap-dark {\n",
       "                    --jp-widgets-color: white;\n",
       "                    --jp-widgets-label-color: white;\n",
       "                    --jp-ui-font-color1: white;\n",
       "                    --jp-layout-color2: #454545;\n",
       "                    background-color: #383838;\n",
       "                }\n",
       "\n",
       "                .geemap-dark .jupyter-button {\n",
       "                    --jp-layout-color3: #383838;\n",
       "                }\n",
       "\n",
       "                .geemap-colab {\n",
       "                    background-color: var(--colab-primary-surface-color, white);\n",
       "                }\n",
       "\n",
       "                .geemap-colab .jupyter-button {\n",
       "                    --jp-layout-color3: var(--colab-primary-surface-color, white);\n",
       "                }\n",
       "            </style>\n",
       "            "
      ],
      "text/plain": [
       "<IPython.core.display.HTML object>"
      ]
     },
     "metadata": {},
     "output_type": "display_data"
    },
    {
     "data": {
      "text/plain": [
       "<ee.imagecollection.ImageCollection at 0x151e59ca0>"
      ]
     },
     "execution_count": 58,
     "metadata": {},
     "output_type": "execute_result"
    }
   ],
   "source": [
    "summedchirpscollection"
   ]
  }
 ],
 "metadata": {
  "kernelspec": {
   "display_name": "Python 3 (ipykernel)",
   "language": "python",
   "name": "python3"
  },
  "language_info": {
   "codemirror_mode": {
    "name": "ipython",
    "version": 3
   },
   "file_extension": ".py",
   "mimetype": "text/x-python",
   "name": "python",
   "nbconvert_exporter": "python",
   "pygments_lexer": "ipython3",
   "version": "3.13.1"
  }
 },
 "nbformat": 4,
 "nbformat_minor": 5
}
